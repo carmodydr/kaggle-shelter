{
 "cells": [
  {
   "cell_type": "code",
   "execution_count": 1,
   "metadata": {
    "collapsed": false
   },
   "outputs": [],
   "source": [
    "import numpy as np\n",
    "\n",
    "import pandas as pd\n",
    "\n",
    "import seaborn as sns"
   ]
  },
  {
   "cell_type": "code",
   "execution_count": 2,
   "metadata": {
    "collapsed": false
   },
   "outputs": [],
   "source": [
    "from sklearn.ensemble import RandomForestClassifier\n",
    "from sklearn.tree import DecisionTreeClassifier\n",
    "from sklearn.neural_network import BernoulliRBM\n",
    "from sklearn.svm import SVC\n",
    "from sklearn.neighbors import KNeighborsClassifier\n",
    "from sklearn.naive_bayes import GaussianNB\n",
    "from sklearn.linear_model import LogisticRegression, LogisticRegressionCV\n",
    "from sklearn import cross_validation\n",
    "from sklearn.grid_search import GridSearchCV\n"
   ]
  },
  {
   "cell_type": "code",
   "execution_count": 3,
   "metadata": {
    "collapsed": false
   },
   "outputs": [
    {
     "name": "stdout",
     "output_type": "stream",
     "text": [
      "Populating the interactive namespace from numpy and matplotlib\n"
     ]
    }
   ],
   "source": [
    "%pylab inline\n",
    "matplotlib.style.use('ggplot')"
   ]
  },
  {
   "cell_type": "code",
   "execution_count": 4,
   "metadata": {
    "collapsed": true
   },
   "outputs": [],
   "source": [
    "train_df = pd.read_csv('train.csv')"
   ]
  },
  {
   "cell_type": "code",
   "execution_count": 5,
   "metadata": {
    "collapsed": false
   },
   "outputs": [
    {
     "data": {
      "text/html": [
       "<div>\n",
       "<table border=\"1\" class=\"dataframe\">\n",
       "  <thead>\n",
       "    <tr style=\"text-align: right;\">\n",
       "      <th></th>\n",
       "      <th>AnimalID</th>\n",
       "      <th>Name</th>\n",
       "      <th>DateTime</th>\n",
       "      <th>OutcomeType</th>\n",
       "      <th>OutcomeSubtype</th>\n",
       "      <th>AnimalType</th>\n",
       "      <th>SexuponOutcome</th>\n",
       "      <th>AgeuponOutcome</th>\n",
       "      <th>Breed</th>\n",
       "      <th>Color</th>\n",
       "    </tr>\n",
       "  </thead>\n",
       "  <tbody>\n",
       "    <tr>\n",
       "      <th>0</th>\n",
       "      <td>A671945</td>\n",
       "      <td>Hambone</td>\n",
       "      <td>2014-02-12 18:22:00</td>\n",
       "      <td>Return_to_owner</td>\n",
       "      <td>NaN</td>\n",
       "      <td>Dog</td>\n",
       "      <td>Neutered Male</td>\n",
       "      <td>1 year</td>\n",
       "      <td>Shetland Sheepdog Mix</td>\n",
       "      <td>Brown/White</td>\n",
       "    </tr>\n",
       "    <tr>\n",
       "      <th>1</th>\n",
       "      <td>A656520</td>\n",
       "      <td>Emily</td>\n",
       "      <td>2013-10-13 12:44:00</td>\n",
       "      <td>Euthanasia</td>\n",
       "      <td>Suffering</td>\n",
       "      <td>Cat</td>\n",
       "      <td>Spayed Female</td>\n",
       "      <td>1 year</td>\n",
       "      <td>Domestic Shorthair Mix</td>\n",
       "      <td>Cream Tabby</td>\n",
       "    </tr>\n",
       "    <tr>\n",
       "      <th>2</th>\n",
       "      <td>A686464</td>\n",
       "      <td>Pearce</td>\n",
       "      <td>2015-01-31 12:28:00</td>\n",
       "      <td>Adoption</td>\n",
       "      <td>Foster</td>\n",
       "      <td>Dog</td>\n",
       "      <td>Neutered Male</td>\n",
       "      <td>2 years</td>\n",
       "      <td>Pit Bull Mix</td>\n",
       "      <td>Blue/White</td>\n",
       "    </tr>\n",
       "    <tr>\n",
       "      <th>3</th>\n",
       "      <td>A683430</td>\n",
       "      <td>NaN</td>\n",
       "      <td>2014-07-11 19:09:00</td>\n",
       "      <td>Transfer</td>\n",
       "      <td>Partner</td>\n",
       "      <td>Cat</td>\n",
       "      <td>Intact Male</td>\n",
       "      <td>3 weeks</td>\n",
       "      <td>Domestic Shorthair Mix</td>\n",
       "      <td>Blue Cream</td>\n",
       "    </tr>\n",
       "    <tr>\n",
       "      <th>4</th>\n",
       "      <td>A667013</td>\n",
       "      <td>NaN</td>\n",
       "      <td>2013-11-15 12:52:00</td>\n",
       "      <td>Transfer</td>\n",
       "      <td>Partner</td>\n",
       "      <td>Dog</td>\n",
       "      <td>Neutered Male</td>\n",
       "      <td>2 years</td>\n",
       "      <td>Lhasa Apso/Miniature Poodle</td>\n",
       "      <td>Tan</td>\n",
       "    </tr>\n",
       "  </tbody>\n",
       "</table>\n",
       "</div>"
      ],
      "text/plain": [
       "  AnimalID     Name             DateTime      OutcomeType OutcomeSubtype  \\\n",
       "0  A671945  Hambone  2014-02-12 18:22:00  Return_to_owner            NaN   \n",
       "1  A656520    Emily  2013-10-13 12:44:00       Euthanasia      Suffering   \n",
       "2  A686464   Pearce  2015-01-31 12:28:00         Adoption         Foster   \n",
       "3  A683430      NaN  2014-07-11 19:09:00         Transfer        Partner   \n",
       "4  A667013      NaN  2013-11-15 12:52:00         Transfer        Partner   \n",
       "\n",
       "  AnimalType SexuponOutcome AgeuponOutcome                        Breed  \\\n",
       "0        Dog  Neutered Male         1 year        Shetland Sheepdog Mix   \n",
       "1        Cat  Spayed Female         1 year       Domestic Shorthair Mix   \n",
       "2        Dog  Neutered Male        2 years                 Pit Bull Mix   \n",
       "3        Cat    Intact Male        3 weeks       Domestic Shorthair Mix   \n",
       "4        Dog  Neutered Male        2 years  Lhasa Apso/Miniature Poodle   \n",
       "\n",
       "         Color  \n",
       "0  Brown/White  \n",
       "1  Cream Tabby  \n",
       "2   Blue/White  \n",
       "3   Blue Cream  \n",
       "4          Tan  "
      ]
     },
     "execution_count": 5,
     "metadata": {},
     "output_type": "execute_result"
    }
   ],
   "source": [
    "train_df.head()"
   ]
  },
  {
   "cell_type": "code",
   "execution_count": 6,
   "metadata": {
    "collapsed": false
   },
   "outputs": [
    {
     "data": {
      "text/plain": [
       "Adoption           10769\n",
       "Transfer            9422\n",
       "Return_to_owner     4786\n",
       "Euthanasia          1555\n",
       "Died                 197\n",
       "Name: OutcomeType, dtype: int64"
      ]
     },
     "execution_count": 6,
     "metadata": {},
     "output_type": "execute_result"
    }
   ],
   "source": [
    "train_df.OutcomeType.value_counts()"
   ]
  },
  {
   "cell_type": "code",
   "execution_count": 7,
   "metadata": {
    "collapsed": false
   },
   "outputs": [
    {
     "data": {
      "text/plain": [
       "Neutered Male    9779\n",
       "Spayed Female    8820\n",
       "Intact Male      3525\n",
       "Intact Female    3511\n",
       "Unknown          1093\n",
       "Name: SexuponOutcome, dtype: int64"
      ]
     },
     "execution_count": 7,
     "metadata": {},
     "output_type": "execute_result"
    }
   ],
   "source": [
    "train_df.SexuponOutcome.value_counts()"
   ]
  },
  {
   "cell_type": "code",
   "execution_count": 8,
   "metadata": {
    "collapsed": false,
    "scrolled": true
   },
   "outputs": [
    {
     "data": {
      "text/plain": [
       "Domestic Shorthair Mix                     8810\n",
       "Pit Bull Mix                               1906\n",
       "Chihuahua Shorthair Mix                    1766\n",
       "Labrador Retriever Mix                     1363\n",
       "Domestic Medium Hair Mix                    839\n",
       "German Shepherd Mix                         575\n",
       "Domestic Longhair Mix                       520\n",
       "Siamese Mix                                 389\n",
       "Australian Cattle Dog Mix                   367\n",
       "Dachshund Mix                               318\n",
       "Boxer Mix                                   245\n",
       "Miniature Poodle Mix                        233\n",
       "Border Collie Mix                           229\n",
       "Australian Shepherd Mix                     163\n",
       "Rat Terrier Mix                             157\n",
       "Catahoula Mix                               157\n",
       "Jack Russell Terrier Mix                    146\n",
       "Yorkshire Terrier Mix                       143\n",
       "Domestic Shorthair                          143\n",
       "Chihuahua Longhair Mix                      142\n",
       "Siberian Husky Mix                          138\n",
       "Miniature Schnauzer Mix                     136\n",
       "Beagle Mix                                  124\n",
       "Rottweiler Mix                              113\n",
       "American Bulldog Mix                        109\n",
       "Cairn Terrier Mix                           102\n",
       "Shih Tzu Mix                                100\n",
       "Chihuahua Shorthair/Dachshund                98\n",
       "Australian Kelpie Mix                        95\n",
       "Staffordshire Mix                            94\n",
       "                                           ... \n",
       "Blue Lacy/Collie Smooth                       1\n",
       "Border Collie/English Pointer                 1\n",
       "Bulldog/Pit Bull                              1\n",
       "Pekingese/Miniature Poodle                    1\n",
       "Chihuahua Shorthair/Finnish Spitz             1\n",
       "Bull Terrier/Jack Russell Terrier             1\n",
       "Dalmatian/Australian Cattle Dog               1\n",
       "Queensland Heeler/Chihuahua Shorthair         1\n",
       "Beagle/Jack Russell Terrier                   1\n",
       "Beagle/Boston Terrier                         1\n",
       "Keeshond                                      1\n",
       "Cardigan Welsh Corgi/English Setter           1\n",
       "Australian Cattle Dog/Queensland Heeler       1\n",
       "Maltese/Border Terrier                        1\n",
       "St. Bernard Rough Coat                        1\n",
       "Scottish Terrier/Miniature Poodle             1\n",
       "Border Terrier/Dachshund Wirehair             1\n",
       "Manx/Domestic Longhair                        1\n",
       "Boston Terrier/Pit Bull                       1\n",
       "German Shepherd/Great Dane                    1\n",
       "Bluetick Hound                                1\n",
       "Greyhound/Labrador Retriever                  1\n",
       "Collie Smooth/Siberian Husky                  1\n",
       "Dogue De Bordeaux/American Bulldog            1\n",
       "Golden Retriever/Great Pyrenees               1\n",
       "Norfolk Terrier/Dachshund                     1\n",
       "Golden Retriever/Whippet                      1\n",
       "Chihuahua Shorthair/Shetland Sheepdog         1\n",
       "Vizsla/Boxer                                  1\n",
       "Dachshund/Cavalier Span                       1\n",
       "Name: Breed, dtype: int64"
      ]
     },
     "execution_count": 8,
     "metadata": {},
     "output_type": "execute_result"
    }
   ],
   "source": [
    "train_df.Breed.value_counts()"
   ]
  },
  {
   "cell_type": "code",
   "execution_count": 11,
   "metadata": {
    "collapsed": false
   },
   "outputs": [
    {
     "data": {
      "text/plain": [
       "<matplotlib.axes._subplots.AxesSubplot at 0x7ff6fe3e3cd0>"
      ]
     },
     "execution_count": 11,
     "metadata": {},
     "output_type": "execute_result"
    },
    {
     "data": {
      "image/png": "[encoded data removed]",
      "text/plain": [
       "<matplotlib.figure.Figure at 0x7ff6fe439e90>"
      ]
     },
     "metadata": {},
     "output_type": "display_data"
    }
   ],
   "source": [
    "#train_df[train_df['Breed'].str.contains(\"Mix\")]\n",
    "sns.countplot(x=train_df['SexuponOutcome'],hue=train_df['OutcomeType'])"
   ]
  },
  {
   "cell_type": "code",
   "execution_count": 12,
   "metadata": {
    "collapsed": false
   },
   "outputs": [
    {
     "name": "stdout",
     "output_type": "stream",
     "text": [
      "<class 'pandas.core.frame.DataFrame'>\n",
      "RangeIndex: 26729 entries, 0 to 26728\n",
      "Data columns (total 10 columns):\n",
      "AnimalID          26729 non-null object\n",
      "Name              19038 non-null object\n",
      "DateTime          26729 non-null object\n",
      "OutcomeType       26729 non-null object\n",
      "OutcomeSubtype    13117 non-null object\n",
      "AnimalType        26729 non-null object\n",
      "SexuponOutcome    26728 non-null object\n",
      "AgeuponOutcome    26711 non-null object\n",
      "Breed             26729 non-null object\n",
      "Color             26729 non-null object\n",
      "dtypes: object(10)\n",
      "memory usage: 2.0+ MB\n"
     ]
    }
   ],
   "source": [
    "train_df.info()"
   ]
  },
  {
   "cell_type": "code",
   "execution_count": 13,
   "metadata": {
    "collapsed": false,
    "scrolled": true
   },
   "outputs": [
    {
     "data": {
      "text/plain": [
       "Black/White                  2824\n",
       "Black                        2292\n",
       "Brown Tabby                  1635\n",
       "Brown Tabby/White             940\n",
       "White                         931\n",
       "Brown/White                   884\n",
       "Orange Tabby                  841\n",
       "Tan/White                     773\n",
       "Tricolor                      752\n",
       "Blue/White                    702\n",
       "Black/Tan                     672\n",
       "White/Black                   643\n",
       "Brown                         639\n",
       "Tan                           628\n",
       "White/Brown                   569\n",
       "Tortie                        530\n",
       "Calico                        517\n",
       "Orange Tabby/White            455\n",
       "Brown Brindle/White           450\n",
       "Blue                          450\n",
       "Black/Brown                   436\n",
       "Blue Tabby                    433\n",
       "White/Tan                     389\n",
       "Red                           337\n",
       "Torbie                        335\n",
       "Brown/Black                   333\n",
       "Red/White                     331\n",
       "Blue Tabby/White              241\n",
       "Brown Brindle                 232\n",
       "Chocolate/White               224\n",
       "                             ... \n",
       "Red/Gold                        1\n",
       "Lynx Point/Brown Tabby          1\n",
       "Liver Tick/White                1\n",
       "Brown Tabby/Brown               1\n",
       "Blue/Brown                      1\n",
       "Tan/Brown Brindle               1\n",
       "Tortie/Black Smoke              1\n",
       "Brown/Blue                      1\n",
       "White/Black Smoke               1\n",
       "Tricolor/Brown Merle            1\n",
       "Tan/Brown Merle                 1\n",
       "Tricolor/Blue Merle             1\n",
       "Brown Merle/Tan                 1\n",
       "Sable/Red                       1\n",
       "Tan/Tricolor                    1\n",
       "Brown Brindle/Brown Merle       1\n",
       "Chocolate/Red Tick              1\n",
       "Blue Merle/Red                  1\n",
       "Brown/Black Brindle             1\n",
       "Blue Cream/Tortie               1\n",
       "Tan/Yellow Brindle              1\n",
       "Silver/Red                      1\n",
       "Red Tick/Brown Merle            1\n",
       "Fawn/Brown                      1\n",
       "Calico/Blue Tabby               1\n",
       "Blue Merle/Cream                1\n",
       "Blue Tabby/Tan                  1\n",
       "Brown Brindle/Blue Cream        1\n",
       "Blue Cream/Buff                 1\n",
       "Blue Cream/Blue Tabby           1\n",
       "Name: Color, dtype: int64"
      ]
     },
     "execution_count": 13,
     "metadata": {},
     "output_type": "execute_result"
    }
   ],
   "source": [
    "train_df.Color.value_counts()"
   ]
  },
  {
   "cell_type": "code",
   "execution_count": 14,
   "metadata": {
    "collapsed": false
   },
   "outputs": [
    {
     "data": {
      "text/plain": [
       "18"
      ]
     },
     "execution_count": 14,
     "metadata": {},
     "output_type": "execute_result"
    }
   ],
   "source": [
    "test = pd.to_datetime(train_df.DateTime[0])\n",
    "test.hour"
   ]
  },
  {
   "cell_type": "code",
   "execution_count": 5,
   "metadata": {
    "collapsed": false
   },
   "outputs": [],
   "source": [
    "def ageCalc(s):\n",
    "    if s is None: return -1\n",
    "    \n",
    "    ageStr = str(s).split(' ')\n",
    "    age = -1\n",
    "    try:\n",
    "        if 'year' in ageStr[1]:\n",
    "            age = int(ageStr[0]) * 365\n",
    "        elif 'day' in ageStr[1]:\n",
    "            age = int(ageStr[0])\n",
    "        elif 'month' in ageStr[1]:\n",
    "            age = int(ageStr[0]) * 30\n",
    "        elif 'week' in ageStr[1]:\n",
    "            age = int(ageStr[0]) * 7\n",
    "    except:\n",
    "        pass\n",
    "    \n",
    "    return age\n",
    "\n",
    "def ageSimple(s):\n",
    "    if s is None: return -1\n",
    "    \n",
    "    try:\n",
    "        ageStr = str(s).split(' ')\n",
    "        age = -1\n",
    "        if 'year' in ageStr[1]:\n",
    "            age = 3\n",
    "        elif 'day' in ageStr[1]:\n",
    "            age = 0\n",
    "        elif 'month' in ageStr[1]:\n",
    "            age = 2\n",
    "        elif 'week' in ageStr[1]:\n",
    "            age = 1\n",
    "    except:\n",
    "        pass\n",
    "            \n",
    "    return age\n",
    "\n",
    "def timeOfDay(s):\n",
    "    if s is None: return -1\n",
    "    \n",
    "    time = pd.to_datetime(s)\n",
    "    ToD = -1\n",
    "    if time.hour < 5:\n",
    "        ToD = 0\n",
    "    elif time.hour < 11:\n",
    "        ToD = 1\n",
    "    elif time.hour < 16:\n",
    "        ToD = 2\n",
    "    elif time.hour < 20:\n",
    "        ToD = 3\n",
    "    \n",
    "    return ToD"
   ]
  },
  {
   "cell_type": "code",
   "execution_count": 6,
   "metadata": {
    "collapsed": false
   },
   "outputs": [],
   "source": [
    "def prepareData(df, train_flag):\n",
    "    returnDF = pd.DataFrame()\n",
    "    if train_flag:\n",
    "        returnDF['OType'] = df.OutcomeType.map( {'Return_to_owner': 0, 'Euthanasia': 1, 'Transfer': 2, 'Adoption': 3, 'Died': 4})\n",
    "        returnDF['OutcomeType'] = df.OutcomeType\n",
    "    returnDF['AType'] = df.AnimalType.map( {'Dog': 0, 'Cat': 1})\n",
    "    returnDF['Sex'] = df.SexuponOutcome.map( {'Neutered Male': 0, 'Spayed Female': 1, 'Intact Male': 2, 'Intact Female': 3, 'Unknown': -1})\n",
    "    returnDF['Intact'] = df.SexuponOutcome.map( {'Neutered Male': 0, 'Spayed Female': 0, 'Intact Male': 1, 'Intact Female': 1, 'Unknown': -1})\n",
    "    returnDF['NoName'] = df.Name.isnull().astype(int)\n",
    "    returnDF['DoW'] = pd.to_datetime(df.DateTime).dt.day\n",
    "    returnDF['Month'] = pd.to_datetime(df.DateTime).dt.month\n",
    "    returnDF['AgeDays'] = df.AgeuponOutcome.map(ageCalc)\n",
    "    returnDF['AgeSimple'] = df.AgeuponOutcome.map(ageSimple)\n",
    "    returnDF['Time'] = df.DateTime.map(timeOfDay)\n",
    "    returnDF['Breed'] = df.Breed.map({\n",
    "            'Domestic Shorthair Mix': 0,\n",
    "            'Pit Bull Mix': 1,\n",
    "    'Chihuahua Shorthair Mix': 2,\n",
    "    'Labrador Retriever Mix': 3,\n",
    "    'Domestic Medium Hair Mix': 4,\n",
    "    'German Shepherd Mix': 5,\n",
    "    'Domestic Longhair Mix': 6,\n",
    "    'Siamese Mix': 7,\n",
    "    'Australian Cattle Dog Mix': 8,\n",
    "    'Dachshund Mix': 9,\n",
    "    'Boxer Mix': 10,\n",
    "    'Miniature Poodle Mix': 11,\n",
    "    'Border Collie Mix': 12\n",
    "        })\n",
    "    \n",
    "    returnDF.Breed = returnDF.Breed.fillna(-1)\n",
    "    \n",
    "    returnDF.dropna(inplace=True)\n",
    "    \n",
    "    return returnDF"
   ]
  },
  {
   "cell_type": "code",
   "execution_count": 7,
   "metadata": {
    "collapsed": false
   },
   "outputs": [
    {
     "data": {
      "text/plain": [
       "26728"
      ]
     },
     "execution_count": 7,
     "metadata": {},
     "output_type": "execute_result"
    }
   ],
   "source": [
    "prepTraindf = prepareData(train_df, 1)\n",
    "len(prepTraindf)"
   ]
  },
  {
   "cell_type": "code",
   "execution_count": 24,
   "metadata": {
    "collapsed": false
   },
   "outputs": [
    {
     "data": {
      "text/plain": [
       "<matplotlib.axes._subplots.AxesSubplot at 0x7ff6fde4f1d0>"
      ]
     },
     "execution_count": 24,
     "metadata": {},
     "output_type": "execute_result"
    },
    {
     "data": {
      "image/png": "[encoded data removed]",
      "text/plain": [
       "<matplotlib.figure.Figure at 0x7ff6fdf56e90>"
      ]
     },
     "metadata": {},
     "output_type": "display_data"
    }
   ],
   "source": [
    "sns.countplot(x=\"AType\",hue=\"OutcomeType\",data=prepTraindf)"
   ]
  },
  {
   "cell_type": "code",
   "execution_count": 23,
   "metadata": {
    "collapsed": false
   },
   "outputs": [
    {
     "data": {
      "text/plain": [
       "<matplotlib.axes._subplots.AxesSubplot at 0x7ff6fdeb4fd0>"
      ]
     },
     "execution_count": 23,
     "metadata": {},
     "output_type": "execute_result"
    },
    {
     "data": {
      "image/png": "[encoded data removed]",
      "text/plain": [
       "<matplotlib.figure.Figure at 0x7ff6fdf81110>"
      ]
     },
     "metadata": {},
     "output_type": "display_data"
    }
   ],
   "source": [
    "sns.countplot(x=\"NoName\",hue=\"OutcomeType\",data=prepTraindf)"
   ]
  },
  {
   "cell_type": "code",
   "execution_count": 22,
   "metadata": {
    "collapsed": false
   },
   "outputs": [
    {
     "data": {
      "text/plain": [
       "<matplotlib.axes._subplots.AxesSubplot at 0x7ff6fdfa7210>"
      ]
     },
     "execution_count": 22,
     "metadata": {},
     "output_type": "execute_result"
    },
    {
     "data": {
      "image/png": "[encoded data removed]",
      "text/plain": [
       "<matplotlib.figure.Figure at 0x7ff6fe22bc90>"
      ]
     },
     "metadata": {},
     "output_type": "display_data"
    }
   ],
   "source": [
    "sns.countplot(x=\"AgeSimple\",hue=\"OutcomeType\",data=prepTraindf)"
   ]
  },
  {
   "cell_type": "code",
   "execution_count": 28,
   "metadata": {
    "collapsed": false
   },
   "outputs": [
    {
     "data": {
      "text/plain": [
       "<matplotlib.axes._subplots.AxesSubplot at 0x7ff099036fd0>"
      ]
     },
     "execution_count": 28,
     "metadata": {},
     "output_type": "execute_result"
    },
    {
     "data": {
      "image/png": "[encoded data removed]",
      "text/plain": [
       "<matplotlib.figure.Figure at 0x7ff09912ef50>"
      ]
     },
     "metadata": {},
     "output_type": "display_data"
    }
   ],
   "source": [
    "sns.countplot(x=\"Intact\",hue=\"OutcomeType\",data=prepTraindf)"
   ]
  },
  {
   "cell_type": "code",
   "execution_count": 86,
   "metadata": {
    "collapsed": false
   },
   "outputs": [],
   "source": [
    "def shelterScore(prediction,actual):\n",
    "    n = len(prediction)\n",
    "    m = 5\n",
    "    logloss = 0\n",
    "    for i in range(n):\n",
    "        for j in range(m):\n",
    "            if prediction[i,j] != 0:\n",
    "                logloss += -(1.0/n)*actual[i,j]*np.log(prediction[i,j])\n",
    "    return logloss"
   ]
  },
  {
   "cell_type": "code",
   "execution_count": 9,
   "metadata": {
    "collapsed": true
   },
   "outputs": [],
   "source": [
    "# one-hot encoding for outcomes\n",
    "outcomeTypes = pd.get_dummies(prepTraindf.OutcomeType)"
   ]
  },
  {
   "cell_type": "code",
   "execution_count": 232,
   "metadata": {
    "collapsed": false
   },
   "outputs": [],
   "source": [
    "features = [\"AType\",\"AgeSimple\",\"Intact\",\"Time\",\"NoName\",\"DoW\",\"Month\"]\n",
    "x_train, x_test, y_train, y_test = cross_validation.train_test_split(prepTraindf[features],outcomeTypes, test_size=0.3)"
   ]
  },
  {
   "cell_type": "markdown",
   "metadata": {},
   "source": [
    "# Logisitic Regression"
   ]
  },
  {
   "cell_type": "code",
   "execution_count": 233,
   "metadata": {
    "collapsed": false
   },
   "outputs": [],
   "source": [
    "x_train_lr, x_test_lr, y_train_lr, y_test_lr = cross_validation.train_test_split(prepTraindf[features],prepTraindf.OType, test_size=0.3)"
   ]
  },
  {
   "cell_type": "code",
   "execution_count": 234,
   "metadata": {
    "collapsed": false
   },
   "outputs": [
    {
     "data": {
      "text/plain": [
       "LogisticRegression(C=1.0, class_weight=None, dual=False, fit_intercept=True,\n",
       "          intercept_scaling=1, max_iter=100, multi_class='ovr', n_jobs=1,\n",
       "          penalty='l2', random_state=None, solver='liblinear', tol=0.0001,\n",
       "          verbose=0, warm_start=False)"
      ]
     },
     "execution_count": 234,
     "metadata": {},
     "output_type": "execute_result"
    }
   ],
   "source": [
    "LR = LogisticRegression(penalty='l2',C=1.0,multi_class='ovr')\n",
    "LR.fit(x_train_lr,y_train_lr)"
   ]
  },
  {
   "cell_type": "code",
   "execution_count": 235,
   "metadata": {
    "collapsed": false,
    "scrolled": true
   },
   "outputs": [
    {
     "name": "stdout",
     "output_type": "stream",
     "text": [
      "0.975132757567\n"
     ]
    }
   ],
   "source": [
    "outScore = LR.predict_proba(x_test_lr)\n",
    "    \n",
    "print shelterScore(outScore,np.array(pd.get_dummies(y_test_lr)))"
   ]
  },
  {
   "cell_type": "code",
   "execution_count": 236,
   "metadata": {
    "collapsed": false
   },
   "outputs": [
    {
     "name": "stdout",
     "output_type": "stream",
     "text": [
      "0.974994990537\n"
     ]
    }
   ],
   "source": [
    "LRCV = LogisticRegressionCV(cv=3,Cs=10,scoring='log_loss')\n",
    "LRCV.fit(x_train_lr,y_train_lr)\n",
    "\n",
    "outScore = LRCV.predict_proba(x_test_lr)\n",
    "    \n",
    "print shelterScore(outScore,np.array(pd.get_dummies(y_test_lr)))"
   ]
  },
  {
   "cell_type": "markdown",
   "metadata": {},
   "source": [
    "# Random Forest Classifier"
   ]
  },
  {
   "cell_type": "code",
   "execution_count": 237,
   "metadata": {
    "collapsed": false
   },
   "outputs": [
    {
     "name": "stdout",
     "output_type": "stream",
     "text": [
      "0.933763445122\n"
     ]
    }
   ],
   "source": [
    "#def run_fit(ne, md):\n",
    "forest = RandomForestClassifier(n_estimators=3, max_depth=4)\n",
    "forest.fit(x_train,y_train)\n",
    "outScore = forest.predict_proba(x_test)\n",
    "\n",
    "scoreL = np.zeros((len(outScore[0]),len(outScore)))\n",
    "i = 0\n",
    "for cl in outScore:\n",
    "    j = 0\n",
    "    for animal in cl:\n",
    "        scoreL[j][i] = animal[1]\n",
    "        j += 1\n",
    "    i += 1\n",
    "\n",
    "print shelterScore(scoreL,np.array(y_test))\n",
    "\n",
    "#run_fit(15,3)"
   ]
  },
  {
   "cell_type": "code",
   "execution_count": 238,
   "metadata": {
    "collapsed": true
   },
   "outputs": [],
   "source": [
    "forestCV = RandomForestClassifier()\n",
    "parameters = {'n_estimators': [2,6,10,14,16,20,24], 'max_depth': [2,6,8,12,14]}\n",
    "clf = GridSearchCV(forestCV, parameters,scoring='log_loss',cv=3)"
   ]
  },
  {
   "cell_type": "code",
   "execution_count": 239,
   "metadata": {
    "collapsed": false
   },
   "outputs": [
    {
     "data": {
      "text/plain": [
       "GridSearchCV(cv=3, error_score='raise',\n",
       "       estimator=RandomForestClassifier(bootstrap=True, class_weight=None, criterion='gini',\n",
       "            max_depth=None, max_features='auto', max_leaf_nodes=None,\n",
       "            min_samples_leaf=1, min_samples_split=2,\n",
       "            min_weight_fraction_leaf=0.0, n_estimators=10, n_jobs=1,\n",
       "            oob_score=False, random_state=None, verbose=0,\n",
       "            warm_start=False),\n",
       "       fit_params={}, iid=True, n_jobs=1,\n",
       "       param_grid={'n_estimators': [2, 6, 10, 14, 16, 20, 24], 'max_depth': [2, 6, 8, 12, 14]},\n",
       "       pre_dispatch='2*n_jobs', refit=True, scoring='log_loss', verbose=0)"
      ]
     },
     "execution_count": 239,
     "metadata": {},
     "output_type": "execute_result"
    }
   ],
   "source": [
    "clf.fit(x_train_lr,y_train_lr)"
   ]
  },
  {
   "cell_type": "code",
   "execution_count": 240,
   "metadata": {
    "collapsed": false
   },
   "outputs": [
    {
     "name": "stdout",
     "output_type": "stream",
     "text": [
      "0.838629140555\n"
     ]
    },
    {
     "data": {
      "text/plain": [
       "{'max_depth': 8, 'n_estimators': 16}"
      ]
     },
     "execution_count": 240,
     "metadata": {},
     "output_type": "execute_result"
    }
   ],
   "source": [
    "outScore = clf.predict_proba(x_test_lr)\n",
    "print shelterScore(outScore,np.array(pd.get_dummies(y_test_lr)))\n",
    "clf.best_params_"
   ]
  },
  {
   "cell_type": "code",
   "execution_count": 96,
   "metadata": {
    "collapsed": false,
    "scrolled": true
   },
   "outputs": [
    {
     "name": "stdout",
     "output_type": "stream",
     "text": [
      "1 10\n"
     ]
    }
   ],
   "source": [
    "_min = 100\n",
    "bestNE = 0\n",
    "bestMD = 0\n",
    "for i in range(10):\n",
    "    for j in range(10):\n",
    "        val = run_fit(i+1,j+1)\n",
    "        if val < _min:\n",
    "            _min = val\n",
    "            bestNE = i+1\n",
    "            bestMD = j+1\n",
    "            \n",
    "print bestNE,bestMD"
   ]
  },
  {
   "cell_type": "code",
   "execution_count": 200,
   "metadata": {
    "collapsed": false
   },
   "outputs": [],
   "source": [
    "test_df = pd.read_csv('test.csv')"
   ]
  },
  {
   "cell_type": "code",
   "execution_count": 201,
   "metadata": {
    "collapsed": false
   },
   "outputs": [
    {
     "data": {
      "text/plain": [
       "11456"
      ]
     },
     "execution_count": 201,
     "metadata": {},
     "output_type": "execute_result"
    }
   ],
   "source": [
    "prepTestdf = prepareData(test_df, 0)\n",
    "len(prepTestdf)"
   ]
  },
  {
   "cell_type": "code",
   "execution_count": 202,
   "metadata": {
    "collapsed": false
   },
   "outputs": [],
   "source": [
    "output = clf.predict_proba(prepTestdf[features])\n",
    "outputLR = LR.predict_proba(prepTestdf[features])"
   ]
  },
  {
   "cell_type": "code",
   "execution_count": 241,
   "metadata": {
    "collapsed": false
   },
   "outputs": [
    {
     "name": "stdout",
     "output_type": "stream",
     "text": [
      "[ 0.39341753  0.02781031  0.09286513  0.4839038   0.00200323]\n",
      "[ 0.36563559  0.03619191  0.08682167  0.51017302  0.00117781]\n"
     ]
    }
   ],
   "source": [
    "print output[4]\n",
    "print outputLR[4]"
   ]
  },
  {
   "cell_type": "code",
   "execution_count": 51,
   "metadata": {
    "collapsed": false,
    "scrolled": true
   },
   "outputs": [],
   "source": [
    "l = np.zeros((len(output[0]),len(output)))\n",
    "i = 0\n",
    "for cl in output:\n",
    "    j = 0\n",
    "    for animal in cl:\n",
    "        l[j][i] = animal[1]\n",
    "        j += 1\n",
    "    i += 1"
   ]
  },
  {
   "cell_type": "code",
   "execution_count": 213,
   "metadata": {
    "collapsed": false
   },
   "outputs": [],
   "source": [
    "#out_df = pd.DataFrame(l)\n",
    "out_df = pd.DataFrame(output)\n",
    "\n",
    "outDF = pd.DataFrame( {'AAnimalID': test_df['ID'], 'Adoption': out_df[3], 'Died': out_df[4], 'Euthanasia': out_df[1],'Return_to_owner': out_df[0], 'Transfer': out_df[2]} )\n",
    "outDF.to_csv('randomForestCV_v1.csv',index=False)"
   ]
  },
  {
   "cell_type": "markdown",
   "metadata": {},
   "source": [
    "# SVC"
   ]
  },
  {
   "cell_type": "code",
   "execution_count": 242,
   "metadata": {
    "collapsed": false
   },
   "outputs": [
    {
     "data": {
      "text/plain": [
       "SVC(C=1.0, cache_size=200, class_weight=None, coef0=0.0,\n",
       "  decision_function_shape=None, degree=3, gamma='auto', kernel='rbf',\n",
       "  max_iter=-1, probability=True, random_state=None, shrinking=True,\n",
       "  tol=0.001, verbose=False)"
      ]
     },
     "execution_count": 242,
     "metadata": {},
     "output_type": "execute_result"
    }
   ],
   "source": [
    "svc = SVC(probability=True)\n",
    "svc.fit(x_train_lr,y_train_lr)"
   ]
  },
  {
   "cell_type": "code",
   "execution_count": 243,
   "metadata": {
    "collapsed": false
   },
   "outputs": [
    {
     "name": "stdout",
     "output_type": "stream",
     "text": [
      "0.912696790205\n"
     ]
    }
   ],
   "source": [
    "scoreSVC = svc.predict_proba(x_test_lr)\n",
    "    \n",
    "print shelterScore(scoreSVC,np.array(pd.get_dummies(y_test_lr)))"
   ]
  },
  {
   "cell_type": "markdown",
   "metadata": {},
   "source": [
    "# XGBoost"
   ]
  },
  {
   "cell_type": "code",
   "execution_count": 4,
   "metadata": {
    "collapsed": true
   },
   "outputs": [],
   "source": [
    "import xgboost as xgb"
   ]
  },
  {
   "cell_type": "code",
   "execution_count": null,
   "metadata": {
    "collapsed": true
   },
   "outputs": [],
   "source": [
    "dtrain = xgb.DMatrix('train.csv')"
   ]
  },
  {
   "cell_type": "markdown",
   "metadata": {
    "collapsed": true
   },
   "source": [
    "# Ensemble"
   ]
  },
  {
   "cell_type": "code",
   "execution_count": 217,
   "metadata": {
    "collapsed": false
   },
   "outputs": [],
   "source": [
    "outputEnsemble = (output + outputLR)/2"
   ]
  },
  {
   "cell_type": "code",
   "execution_count": 220,
   "metadata": {
    "collapsed": false
   },
   "outputs": [],
   "source": [
    "out_df = pd.DataFrame(outputEnsemble)\n",
    "\n",
    "outDF = pd.DataFrame( {'AAnimalID': test_df['ID'], 'Adoption': out_df[3], 'Died': out_df[4], 'Euthanasia': out_df[1],'Return_to_owner': out_df[0], 'Transfer': out_df[2]} )\n",
    "outDF.to_csv('ensemble_v1.csv',index=False)"
   ]
  },
  {
   "cell_type": "code",
   "execution_count": null,
   "metadata": {
    "collapsed": true
   },
   "outputs": [],
   "source": []
  }
 ],
 "metadata": {
  "kernelspec": {
   "display_name": "Python 2",
   "language": "python",
   "name": "python2"
  },
  "language_info": {
   "codemirror_mode": {
    "name": "ipython",
    "version": 2
   },
   "file_extension": ".py",
   "mimetype": "text/x-python",
   "name": "python",
   "nbconvert_exporter": "python",
   "pygments_lexer": "ipython2",
   "version": "2.7.11"
  }
 },
 "nbformat": 4,
 "nbformat_minor": 0
}
